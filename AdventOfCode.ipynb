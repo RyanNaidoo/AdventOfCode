{
 "cells": [
  {
   "cell_type": "markdown",
   "metadata": {},
   "source": [
    "# DAY 1 \n",
    "## Puzzles 1 and 2 "
   ]
  },
  {
   "cell_type": "code",
   "execution_count": 1,
   "metadata": {},
   "outputs": [
    {
     "name": "stdout",
     "output_type": "stream",
     "text": [
      "67016\n",
      "200116\n"
     ]
    }
   ],
   "source": [
    "elfsList = []\n",
    "\n",
    "with open('Day1Puzzle1.txt') as inputFile:\n",
    "    lines = inputFile.readlines()\n",
    "    tempIterator = 0 \n",
    "    for line in lines: \n",
    "        line = line.strip('\\n')\n",
    "        if line != \"\":\n",
    "            tempIterator += int(line)\n",
    "        else :\n",
    "            elfsList.append(tempIterator)\n",
    "            tempIterator = 0 \n",
    "\n",
    "# Puzzle 1\n",
    "print(max(elfsList))\n",
    "\n",
    "# Puzzle 2 \n",
    "elfsList.sort(reverse=True)\n",
    "print(sum(elfsList[:3]))\n",
    "            "
   ]
  },
  {
   "cell_type": "markdown",
   "metadata": {},
   "source": [
    "# Day 2 "
   ]
  },
  {
   "cell_type": "code",
   "execution_count": 5,
   "metadata": {},
   "outputs": [
    {
     "name": "stdout",
     "output_type": "stream",
     "text": [
      "12424\n"
     ]
    }
   ],
   "source": [
    "# A for Rock, B for Paper, and C for Scissors\n",
    "# X for Rock, Y for Paper, and Z for Scissors\n",
    "# (1 for Rock, 2 for Paper, and 3 for Scissors)\n",
    "# (0 if you lost, 3 if the round was a draw, and 6 if you won)\n",
    "# X means you need to lose, Y means you need to end the round in a draw, and Z means you need to win\n",
    "\n",
    "# # define dictionary PUZZLE 1\n",
    "# points = dict([\n",
    "#     ('A X',1+3),\n",
    "#     ('A Y',2+6),\n",
    "#     ('A Z',3+0),\n",
    "#     ('B X',1+0),\n",
    "#     ('B Y',2+3),\n",
    "#     ('B Z',3+6),\n",
    "#     ('C X',1+6),\n",
    "#     ('C Y',2+0),\n",
    "#     ('C Z',3+3)\n",
    "# ])\n",
    "\n",
    "\n",
    "# A for Rock, B for Paper, and C for Scissors\n",
    "# X for Rock, Y for Paper, and Z for Scissors\n",
    "# (1 for Rock, 2 for Paper, and 3 for Scissors)\n",
    "# define dictionary \n",
    "points = dict([\n",
    "    ('A X',0+3),\n",
    "    ('A Y',3+1),\n",
    "    ('A Z',6+2),\n",
    "    ('B X',0+1),\n",
    "    ('B Y',3+2),\n",
    "    ('B Z',6+3),\n",
    "    ('C X',0+2),\n",
    "    ('C Y',3+3),\n",
    "    ('C Z',6+1)\n",
    "])\n",
    "\n",
    "score = 0\n",
    "\n",
    "with open('Day2Puzzle.txt') as inputFile:\n",
    "    lines = inputFile.readlines()\n",
    "    for line in lines: \n",
    "        line = line.strip('\\n')\n",
    "        score += points[line]\n",
    "\n",
    "print(score)\n",
    "\n"
   ]
  },
  {
   "cell_type": "markdown",
   "metadata": {},
   "source": [
    "# Day 3 "
   ]
  },
  {
   "cell_type": "code",
   "execution_count": 38,
   "metadata": {},
   "outputs": [
    {
     "name": "stdout",
     "output_type": "stream",
     "text": [
      "Puzzle 1 7553\n"
     ]
    }
   ],
   "source": [
    "# Lowercase item types a through z have priorities 1 through 26.\n",
    "# Uppercase item types A through Z have priorities 27 through 52.\n",
    "# a\t097\tA\t065\n",
    "def lookupPriority(inputCharacter):\n",
    "    value = ord(inputCharacter)\n",
    "    if value < 96:\n",
    "        # uppercase\n",
    "        return value - 38\n",
    "    else:\n",
    "        # lowercase\n",
    "        return value - 96\n",
    "\n",
    "sumPuzzle1 = 0 \n",
    "with open('Day3Puzzle.txt') as inputFile:\n",
    "    lines = inputFile.readlines() \n",
    "    for line in lines:   \n",
    "\n",
    "        # Puzzle 1 \n",
    "        duplicates = [w for w in set(line[:((len(line))//2)]) if w in line[(len(line))//2:]]\n",
    "        for letter in duplicates:\n",
    "            sumPuzzle1 += lookupPriority(letter)\n",
    "\n",
    "print(\"Puzzle 1\",sumPuzzle1)"
   ]
  },
  {
   "cell_type": "code",
   "execution_count": 1,
   "metadata": {},
   "outputs": [
    {
     "name": "stdout",
     "output_type": "stream",
     "text": [
      "Puzzle 2 2758\n"
     ]
    }
   ],
   "source": [
    "# Lowercase item types a through z have priorities 1 through 26.\n",
    "# Uppercase item types A through Z have priorities 27 through 52.\n",
    "# a\t097\tA\t065\n",
    "def lookupPriority(inputCharacter):\n",
    "    value = ord(inputCharacter)\n",
    "    if value < 96:\n",
    "        # uppercase\n",
    "        return value - 38\n",
    "    else:\n",
    "        # lowercase\n",
    "        return value - 96\n",
    "\n",
    "def chunker(seq, size):\n",
    "    return (seq[pos:pos + size] for pos in range(0, len(seq), size))\n",
    "\n",
    "sumPuzzle2 = 0 \n",
    "with open('Day3Puzzle.txt') as inputFile:\n",
    "    lines = inputFile.readlines() \n",
    "    for elfGroup in chunker(lines,3):   \n",
    "        duplicates = [x for x in [w for w in elfGroup[0] if w in elfGroup[1]] if x in elfGroup[2]]\n",
    "        sumPuzzle2 += lookupPriority(duplicates[0])\n",
    "\n",
    "print(\"Puzzle 2\",sumPuzzle2)"
   ]
  },
  {
   "cell_type": "markdown",
   "metadata": {},
   "source": [
    "# Day 4 "
   ]
  },
  {
   "cell_type": "code",
   "execution_count": 1,
   "metadata": {},
   "outputs": [
    {
     "name": "stdout",
     "output_type": "stream",
     "text": [
      "841\n"
     ]
    }
   ],
   "source": [
    "def findOverlapPuzzleOne(firstElf,secondElf):\n",
    "    if ((firstElf[0] <= secondElf[0]) and (firstElf[-1] >= secondElf[-1] )) or ((secondElf[0] <= firstElf[0]) and (secondElf[-1] >= firstElf[-1] )):\n",
    "        return True\n",
    "\n",
    "def findOverlapPuzzleTwo(firstElf,secondElf):\n",
    "    if set(firstElf) & set(secondElf):\n",
    "        return True\n",
    "\n",
    "def createSets(inputString):\n",
    "    sets = inputString.split(',')\n",
    "    firstList = sets[0].split('-')\n",
    "    secondList = sets[1].split('-')\n",
    "    return [int(firstList[0]),int(firstList[1]),int(secondList[0]),int(secondList[1])]\n",
    "\n",
    "listOne = [2,3,4,5,6]\n",
    "listTwo = [3,4,5]\n",
    "listThree = [3,4,5,10]\n",
    "\n",
    "\n",
    "countOverlap = 0 \n",
    "with open('Day4Puzzle.txt') as inputFile:\n",
    "    lines = inputFile.readlines() \n",
    "    for line in lines: \n",
    "        values = createSets(line.strip('\\n'))\n",
    "        firstSet  =  list(range(values[0],values[1]+1,1))\n",
    "        secondSet =  list(range(values[2],values[3]+1,1))\n",
    "        if findOverlapPuzzleTwo(firstSet,secondSet):\n",
    "            countOverlap += 1\n",
    "\n",
    "print(countOverlap)"
   ]
  },
  {
   "cell_type": "markdown",
   "metadata": {},
   "source": [
    "# Day 5"
   ]
  },
  {
   "cell_type": "code",
   "execution_count": null,
   "metadata": {},
   "outputs": [],
   "source": [
    "# SETUP Original state \n",
    "# [W] [V]     [P]                    \n",
    "# [B] [T]     [C] [B]     [G]        \n",
    "# [G] [S]     [V] [H] [N] [T]        \n",
    "# [Z] [B] [W] [J] [D] [M] [S]        \n",
    "# [R] [C] [N] [N] [F] [W] [C]     [W]\n",
    "# [D] [F] [S] [M] [L] [T] [L] [Z] [Z]\n",
    "# [C] [W] [B] [G] [S] [V] [F] [D] [N]\n",
    "# [V] [G] [C] [Q] [T] [J] [P] [B] [M]\n",
    "#  1   2   3   4   5   6   7   8   9 \n",
    "\n",
    "# my_upper = 'ABCDEFGHIJKLMNOPQRSTUVWXYZ'\n",
    "# for letter in my_upper:\n",
    "#     print(letter, '= \"',letter,'\"')\n",
    "\n",
    "# print('Test instruction line splitting ',extractInstruction(testLine))\n",
    "\n",
    "A = \" A \"\n",
    "B = \" B \"\n",
    "C = \" C \"\n",
    "D = \" D \"\n",
    "E = \" E \"\n",
    "F = \" F \"\n",
    "G = \" G \"\n",
    "H = \" H \"\n",
    "I = \" I \"\n",
    "J = \" J \"\n",
    "K = \" K \"\n",
    "L = \" L \"\n",
    "M = \" M \"\n",
    "N = \" N \"\n",
    "O = \" O \"\n",
    "P = \" P \"\n",
    "Q = \" Q \"\n",
    "R = \" R \"\n",
    "S = \" S \"\n",
    "T = \" T \"\n",
    "U = \" U \"\n",
    "V = \" V \"\n",
    "W = \" W \"\n",
    "X = \" X \"\n",
    "Y = \" Y \"\n",
    "Z = \" Z \"\n",
    "testLine = 'move 2 from 8 to 4'\n",
    "\n",
    "\n",
    "\n",
    "def extractInstruction(inputLine):\n",
    "    # given an instruction line get the indices \n",
    "    # returns [numItems,FromCol,ToCol] -> CORRECTED FOR INDEXING \n",
    "    splitArr = inputLine.split(' ')\n",
    "    return list([int(splitArr[1]),int(splitArr[3])-1,int(splitArr[5])-1])\n",
    "\n",
    "grid = [\n",
    "    [V,C,D,R,Z,G,B,W],\n",
    "    [G,W,F,C,B,S,T,V],\n",
    "    [C,B,S,N,W],\n",
    "    [Q,G,M,N,J,V,C,P],\n",
    "    [T,S,L,F,D,H,B],\n",
    "    [J,V,T,W,M,N],\n",
    "    [P,F,L,C,S,T,G],\n",
    "    [B,D,Z],\n",
    "    [M,N,Z,W]\n",
    "]\n",
    "\n",
    "with open('Day5Puzzle.txt') as inputFile:\n",
    "    lines = inputFile.readlines() \n",
    "    for line in lines:\n",
    "        instruction = extractInstruction(line)\n",
    "        tempList = []\n",
    "        for j in range(0,instruction[0]):\n",
    "            tempList.insert(0,grid[instruction[1]].pop())\n",
    "        for val in tempList:\n",
    "            grid[instruction[2]].append(val)\n",
    "\n",
    "# Puzzle 1 \n",
    "#TBVFVDZPN\n",
    "\n",
    "# Puzzle 2 \n",
    "#VLCWHTDSZ\n",
    "print(grid)        \n",
    "    "
   ]
  },
  {
   "cell_type": "markdown",
   "metadata": {},
   "source": [
    "# Day 6 "
   ]
  },
  {
   "cell_type": "code",
   "execution_count": null,
   "metadata": {},
   "outputs": [],
   "source": [
    "def isUniqueChars(st):\n",
    "    char_set = [False] * 128\n",
    "    for i in range(0, len(st)):\n",
    "        val = ord(st[i])\n",
    "        if char_set[val]:\n",
    "            return False\n",
    "        char_set[val] = True\n",
    "    return True\n",
    "\n",
    "# #puzzleSize = 4\n",
    "puzzleSize = 14\n",
    "with open('Day6Puzzle.txt') as inputFile:\n",
    "    lines = inputFile.readlines()\n",
    "    for line in lines:\n",
    "        for j in range(len(line)):\n",
    "            if line[j+puzzleSize:]:\n",
    "                if isUniqueChars(line[j:j+puzzleSize]):\n",
    "                    print(j+puzzleSize)\n",
    "                    print(line[j:j+puzzleSize])\n"
   ]
  },
  {
   "cell_type": "markdown",
   "metadata": {},
   "source": [
    "# Day 7 "
   ]
  },
  {
   "cell_type": "code",
   "execution_count": 122,
   "metadata": {},
   "outputs": [
    {
     "name": "stdout",
     "output_type": "stream",
     "text": [
      "130\n",
      "1309245\n"
     ]
    }
   ],
   "source": [
    "sizeLimit = 100000\n",
    "sizes = [0] * 196\n",
    "finalSizes = [0] * 196\n",
    "names = []\n",
    "#namesTest = [' /', ' gnpd', ' dcqq', ' bfdng', ' hjlch', ' sbnhc', ' mhpqqq', ' qqhz', ' tcbgmw', ' vnlmlq', ' mpbpcv', ' dnscfz', ' vnlmlq', ' wwf', ' zjdhldlq', ' dwqbhgc', ' sbnhc', ' vjcl', ' mfhzl', ' lsrb', ' pbgrdvmc', ' jlcqmq', ' rqmhwhc', ' sbnhc', ' sbq', ' vmslnrmc', ' lcqpws', ' smfhldss', ' wfbssqj', ' jsv', ' bwc', ' crbnzrtw', ' dmmpcrz', ' mfhzl', ' jdh', ' dwvphbm', ' mpgdhg', ' sbnhc', ' dbb', ' rbbgrtm', ' rmlm', ' wfr', ' shfhmdw', ' wmjgmd', ' psrshrws', ' zrtpgbg', ' dcqq', ' gdgh', ' gsst', ' jwrhclh', ' ftjcr', ' glfptjpb', ' fdnppcr', ' dwvphbm', ' wrg', ' ngsgrgp', ' gchhnd', ' gdphvds', ' dpdb', ' mfhzl', ' cptj', ' rrrrgbqv', ' zwrmjlh', ' sbnhc', ' hwtmwp', ' zjmrr', ' vnlmlq', ' btqsh', ' lgh', ' ljrjpg', ' dwvphbm', ' vghvsmq', ' jqmgn', ' mfhzl', ' dcqq', ' vjhl', ' nbhmzl', ' clhclcr', ' jwqwhq', ' qwbnvzv', ' hpwpm', ' mfhzl', ' mzhwwrtp', ' vbrc', ' vfdqq', ' qzgwglhc', ' vnlmlq', ' zfdhthfn', ' wqjnwgpj', ' hfd', ' lbft', ' rtlw', ' ntpb', ' vbf', ' nbwfdvsv', ' qnwhfv', ' sbnhc', ' dcqq', ' rhstw', ' clh', ' grz', ' ntjtzr', ' qrjgl', ' rzqp', ' rwh', ' tzgrs', ' zrdh', ' dcqq', ' jnncgzgm', ' dwvphbm', ' vpnzs', ' vnlmlq', ' gfsj', ' hddvr', ' mqmnzb', ' mfhzl', ' pccldwf', ' nljtr', ' slztzqd', ' vnlmlq', ' mfhzl', ' dcqq', ' lgfb', ' rjbprpnl', ' zpj', ' nwzp', ' mfhzl', ' vnlmlq', ' mdj', ' rfwwwgr', ' sbnhc', ' dwvphbm', ' zhfl', ' jvnlhq', ' dbn', ' njmdrb', ' gdvtg', ' mfhzl', ' dwvphbm', ' qpnncj', ' vnlmlq', ' mllvdccz', ' ftmrszgl', ' tgvchzn', ' sbnhc', ' sdrrzp', ' dcqq', ' rnjcrjj', ' sbnhc', ' vnlmlq', ' dwvphbm', ' jgc', ' fnvjv', ' nwlbbwtq', ' qcm', ' gctnt', ' sbnhc', ' vvn', ' ntz', ' lbh', ' dwvphbm', ' lft', ' dcqq', ' tgp', ' dwvphbm', ' pftcdtd', ' lrwt', ' rhszw', ' hsfbh', ' wnwztl', ' brwhjj', ' mmflqvsd', ' vnlmlq', ' blggqt', ' fpw', ' mfhzl', ' cpcczt', ' zdv', ' mtg', ' zdtnqtcw', ' vnlmlq', ' vnlmlq', ' dcqq', ' dwvphbm', ' qnv', ' mnrh', ' rdrs', ' dqgw', ' rpcfdr', ' swvlhbg', ' lbpjczw', ' rdvq', ' hht', ' vnlmlq', ' sbnhc']\n",
    "subDirectories = [[]] * 196\n",
    "\n",
    "\n",
    "# Get all the drives \n",
    "with open('inputTodd.txt') as inputFile:\n",
    "    lines = inputFile.readlines()\n",
    "    for x in range(0,len(lines)):\n",
    "        line = lines[x]\n",
    "\n",
    "        # Get directories \n",
    "        if (line[:4] == '$ cd') and  (line[4:-1] not in names) and not ('..' in line) :\n",
    "            names.append(line[4:-1])\n",
    "\n",
    "        # Get contents of sub directories \n",
    "        if (line[:4] == '$ ls'):\n",
    "            directoryIndex = len(names)-1\n",
    "            counter = 1 \n",
    "            tempLine = lines[x+counter]\n",
    "            tempSubDirectories = []\n",
    "            continueRun = True \n",
    "            while tempLine[0] != '$' and continueRun:\n",
    "                #For each sub section of directory \n",
    "                if tempLine[:3] == 'dir':\n",
    "                    tempSubDirectories.append(tempLine[4:-1])\n",
    "                else:\n",
    "                    sizes[directoryIndex] += int( tempLine.split(' ',1)[0] )\n",
    "\n",
    "                if tempSubDirectories != []:    \n",
    "                    subDirectories[directoryIndex] = tempSubDirectories\n",
    "\n",
    "                counter += 1 \n",
    "                if x + counter < 983:\n",
    "                    tempLine = lines[x + counter]\n",
    "                else: \n",
    "                    continueRun = False\n",
    "\n",
    "\n",
    "def findSize(dirIndex):\n",
    "    size = sizes[dirIndex]\n",
    "    if subDirectories[dirIndex] == []:\n",
    "        return sizes[dirIndex] \n",
    "    else: \n",
    "        for j in subDirectories[dirIndex]:\n",
    "            size += findSize(names.index(' '+ j))\n",
    "        return size \n",
    "\n",
    "\n",
    "# Final processing recursively of size of directory based on subdirectories \n",
    "for index in range(0,196):\n",
    "    finalSizes[index] = findSize(index)\n",
    "\n",
    "print(len(names))\n",
    "#print(subDirectories)\n",
    "# print(sizes)\n",
    "# print(finalSizes)\n",
    "# print(sizes)\n",
    "\n",
    "\n",
    "tempSum = 0 \n",
    "for t in finalSizes: \n",
    "    if t <= 100000:\n",
    "        tempSum += t \n",
    "print(tempSum)\n",
    "\n",
    "\n",
    "#Answer: 1844187\n"
   ]
  },
  {
   "cell_type": "code",
   "execution_count": 116,
   "metadata": {},
   "outputs": [
    {
     "name": "stdout",
     "output_type": "stream",
     "text": [
      "665709\n"
     ]
    }
   ],
   "source": [
    "sizeLimit = 100000\n",
    "sizes = [0] * 196\n",
    "finalSizes = [0] * 196\n",
    "names = []\n",
    "#namesTest = [' /', ' gnpd', ' dcqq', ' bfdng', ' hjlch', ' sbnhc', ' mhpqqq', ' qqhz', ' tcbgmw', ' vnlmlq', ' mpbpcv', ' dnscfz', ' vnlmlq', ' wwf', ' zjdhldlq', ' dwqbhgc', ' sbnhc', ' vjcl', ' mfhzl', ' lsrb', ' pbgrdvmc', ' jlcqmq', ' rqmhwhc', ' sbnhc', ' sbq', ' vmslnrmc', ' lcqpws', ' smfhldss', ' wfbssqj', ' jsv', ' bwc', ' crbnzrtw', ' dmmpcrz', ' mfhzl', ' jdh', ' dwvphbm', ' mpgdhg', ' sbnhc', ' dbb', ' rbbgrtm', ' rmlm', ' wfr', ' shfhmdw', ' wmjgmd', ' psrshrws', ' zrtpgbg', ' dcqq', ' gdgh', ' gsst', ' jwrhclh', ' ftjcr', ' glfptjpb', ' fdnppcr', ' dwvphbm', ' wrg', ' ngsgrgp', ' gchhnd', ' gdphvds', ' dpdb', ' mfhzl', ' cptj', ' rrrrgbqv', ' zwrmjlh', ' sbnhc', ' hwtmwp', ' zjmrr', ' vnlmlq', ' btqsh', ' lgh', ' ljrjpg', ' dwvphbm', ' vghvsmq', ' jqmgn', ' mfhzl', ' dcqq', ' vjhl', ' nbhmzl', ' clhclcr', ' jwqwhq', ' qwbnvzv', ' hpwpm', ' mfhzl', ' mzhwwrtp', ' vbrc', ' vfdqq', ' qzgwglhc', ' vnlmlq', ' zfdhthfn', ' wqjnwgpj', ' hfd', ' lbft', ' rtlw', ' ntpb', ' vbf', ' nbwfdvsv', ' qnwhfv', ' sbnhc', ' dcqq', ' rhstw', ' clh', ' grz', ' ntjtzr', ' qrjgl', ' rzqp', ' rwh', ' tzgrs', ' zrdh', ' dcqq', ' jnncgzgm', ' dwvphbm', ' vpnzs', ' vnlmlq', ' gfsj', ' hddvr', ' mqmnzb', ' mfhzl', ' pccldwf', ' nljtr', ' slztzqd', ' vnlmlq', ' mfhzl', ' dcqq', ' lgfb', ' rjbprpnl', ' zpj', ' nwzp', ' mfhzl', ' vnlmlq', ' mdj', ' rfwwwgr', ' sbnhc', ' dwvphbm', ' zhfl', ' jvnlhq', ' dbn', ' njmdrb', ' gdvtg', ' mfhzl', ' dwvphbm', ' qpnncj', ' vnlmlq', ' mllvdccz', ' ftmrszgl', ' tgvchzn', ' sbnhc', ' sdrrzp', ' dcqq', ' rnjcrjj', ' sbnhc', ' vnlmlq', ' dwvphbm', ' jgc', ' fnvjv', ' nwlbbwtq', ' qcm', ' gctnt', ' sbnhc', ' vvn', ' ntz', ' lbh', ' dwvphbm', ' lft', ' dcqq', ' tgp', ' dwvphbm', ' pftcdtd', ' lrwt', ' rhszw', ' hsfbh', ' wnwztl', ' brwhjj', ' mmflqvsd', ' vnlmlq', ' blggqt', ' fpw', ' mfhzl', ' cpcczt', ' zdv', ' mtg', ' zdtnqtcw', ' vnlmlq', ' vnlmlq', ' dcqq', ' dwvphbm', ' qnv', ' mnrh', ' rdrs', ' dqgw', ' rpcfdr', ' swvlhbg', ' lbpjczw', ' rdvq', ' hht', ' vnlmlq', ' sbnhc']\n",
    "subDirectories = [[]] * 196\n",
    "\n",
    "\n",
    "\n",
    "# Get all the drives \n",
    "with open('Day7Puzzle.txt') as inputFile:\n",
    "#with open('Day72.txt') as inputFile:\n",
    "    lines = inputFile.readlines()\n",
    "    for x in range(0,len(lines)):\n",
    "        line = lines[x]\n",
    "\n",
    "        # Get directories \n",
    "        if (line[:4] == '$ cd') and  (line[4:-1] not in names) and not ('..' in line) :\n",
    "            names.append(line[4:-1])\n",
    "\n",
    "        # Get contents of sub directories \n",
    "        if (line[:4] == '$ ls'):\n",
    "            directoryIndex = len(names)-1\n",
    "            counter = 1 \n",
    "            tempLine = lines[x+counter]\n",
    "            tempSubDirectories = []\n",
    "            continueRun = True \n",
    "            while tempLine[0] != '$' and continueRun:\n",
    "                #For each sub section of directory \n",
    "                if tempLine[:3] == 'dir':\n",
    "                    tempSubDirectories.append(tempLine[4:-1])\n",
    "                else:\n",
    "                    #print(tempLine.split(' ',1)[0])\n",
    "                    sizes[directoryIndex] += int( tempLine.split(' ',1)[0] )\n",
    "\n",
    "                if tempSubDirectories != []:    \n",
    "                    subDirectories[directoryIndex] = tempSubDirectories\n",
    "\n",
    "                counter += 1 \n",
    "                if x + counter < 1052:\n",
    "                    tempLine = lines[x + counter]\n",
    "                else: \n",
    "                    continueRun = False\n",
    "\n",
    "\n",
    "def findSize(dirIndex):\n",
    "    size = sizes[dirIndex]\n",
    "    if subDirectories[dirIndex] == []:\n",
    "        return sizes[dirIndex]\n",
    "    else: \n",
    "        for j in subDirectories[dirIndex]:\n",
    "            size += findSize(names.index(' '+ j))\n",
    "        return size \n",
    "\n",
    "\n",
    "# Final processing recursively of size of directory based on subdirectories \n",
    "for index in range(0,196):\n",
    "    finalSizes[index] = findSize(index)\n",
    "\n",
    "# print(names)\n",
    "#print(subDirectories)\n",
    "# print(sizes)\n",
    "# print(finalSizes)\n",
    "# print(sizes)\n",
    "\n",
    "\n",
    "tempSum = 0 \n",
    "for t in finalSizes: \n",
    "    if t <= 100000:\n",
    "        tempSum += t \n",
    "print(tempSum)\n"
   ]
  },
  {
   "cell_type": "markdown",
   "metadata": {},
   "source": [
    "# Day 8"
   ]
  },
  {
   "cell_type": "code",
   "execution_count": 7,
   "metadata": {},
   "outputs": [
    {
     "name": "stdout",
     "output_type": "stream",
     "text": [
      "6\n",
      "9\n",
      "9\n",
      "3\n"
     ]
    }
   ],
   "source": [
    "# grid positions = [x,y] = [width,height]\n",
    "def isVIsible(gridPosition,threshold):\n",
    "    # check row \n",
    "    for t in range(0,width):\n",
    "        if (int(lines[gridPosition[1]][t]) >= int(threshold)) and (t != gridPosition[0]):\n",
    "            return False\n",
    "    # check col\n",
    "    for j in range(0,height):\n",
    "        if (int(lines[j][gridPosition[0]]) >= int(threshold)) and (j != gridPosition[1]):\n",
    "            return False\n",
    "    return True\n",
    "\n",
    "\n",
    "countVis = 0 \n",
    "\n",
    "with open('Day8Puzzle.txt') as inputFile:\n",
    "    lines = inputFile.readlines()\n",
    "\n",
    "    # set limits \n",
    "    height = len(lines)\n",
    "    width = len(lines[0])-1\n",
    "    #print(height,width)\n",
    "\n",
    "    # iterate through trees \n",
    "    for y in range(0,height):\n",
    "        for x in range(0,width):\n",
    "            if isVIsible([x,y],lines[y][x]):\n",
    "                    countVis += 1\n",
    "                    print(lines[y][x])\n",
    "\n",
    "\n",
    "\n",
    "print(countVis)"
   ]
  },
  {
   "cell_type": "code",
   "execution_count": 54,
   "metadata": {},
   "outputs": [
    {
     "name": "stdout",
     "output_type": "stream",
     "text": [
      "height: 99  width:  99 \n",
      "\n",
      "Total =  1717\n"
     ]
    }
   ],
   "source": [
    "countVis = 0 \n",
    "grid = []\n",
    "\n",
    "def getGridSlices(wInput,hInput,inputGrid):\n",
    "\n",
    "    row = grid[hInput]\n",
    "    col = [val[wInput] for val in inputGrid]\n",
    "    # print('col:',col)\n",
    "    # print('row:',row)\n",
    "    return row,col\n",
    "\n",
    "\n",
    "def calcVisibility(wInput,hInput,inputGrid):\n",
    "\n",
    "    row,col = getGridSlices(wInput=wInput,hInput=hInput,inputGrid=inputGrid)\n",
    "    threshold = inputGrid[hInput][wInput]\n",
    "\n",
    "    left = row[:wInput]\n",
    "    right = row[wInput+1:]\n",
    "    top = col[:hInput]\n",
    "    bottom = col[hInput+1:]\n",
    "    # print(left)\n",
    "    # print(right)\n",
    "    # print(top)\n",
    "    # print(bottom)\n",
    "    if threshold > max(left) or threshold > max(right) or threshold > max(top) or threshold > max(bottom):\n",
    "        return True\n",
    "    return False\n",
    "\n",
    "\n",
    "# Extract info from file \n",
    "with open('Day8Puzzle.txt') as inputFile:\n",
    "    lines = inputFile.readlines()\n",
    "    height = len(lines)\n",
    "    width = len(lines[0]) -1 \n",
    "    print('height:', height,' width: ',width,'\\n')\n",
    "    for line in lines:\n",
    "        line = [x for x in line[:-1]]\n",
    "        grid.append(line)\n",
    "\n",
    "\n",
    "for x in range(1,height-1):\n",
    "    for y in range(1,width-1):\n",
    "        if calcVisibility(y,x,grid):\n",
    "            countVis += 1\n",
    "\n",
    "# calc total \n",
    "print('Total = ',countVis + (width + width + height + height - 4))\n"
   ]
  }
 ],
 "metadata": {
  "kernelspec": {
   "display_name": "handtracking",
   "language": "python",
   "name": "handtracking"
  },
  "language_info": {
   "codemirror_mode": {
    "name": "ipython",
    "version": 3
   },
   "file_extension": ".py",
   "mimetype": "text/x-python",
   "name": "python",
   "nbconvert_exporter": "python",
   "pygments_lexer": "ipython3",
   "version": "3.10.5"
  },
  "orig_nbformat": 4,
  "vscode": {
   "interpreter": {
    "hash": "28762a79f5b734ac3f0e14244dfa9b02b4ec92da757e3fcc2dd883042859d1ba"
   }
  }
 },
 "nbformat": 4,
 "nbformat_minor": 2
}
