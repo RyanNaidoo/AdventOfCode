{
 "cells": [
  {
   "cell_type": "markdown",
   "metadata": {},
   "source": [
    "# DAY 1 \n",
    "## Puzzles 1 and 2 "
   ]
  },
  {
   "cell_type": "code",
   "execution_count": 1,
   "metadata": {},
   "outputs": [
    {
     "name": "stdout",
     "output_type": "stream",
     "text": [
      "67016\n",
      "200116\n"
     ]
    }
   ],
   "source": [
    "elfsList = []\n",
    "\n",
    "with open('Day1Puzzle1.txt') as inputFile:\n",
    "    lines = inputFile.readlines()\n",
    "    tempIterator = 0 \n",
    "    for line in lines: \n",
    "        line = line.strip('\\n')\n",
    "        if line != \"\":\n",
    "            tempIterator += int(line)\n",
    "        else :\n",
    "            elfsList.append(tempIterator)\n",
    "            tempIterator = 0 \n",
    "\n",
    "# Puzzle 1\n",
    "print(max(elfsList))\n",
    "\n",
    "# Puzzle 2 \n",
    "elfsList.sort(reverse=True)\n",
    "print(sum(elfsList[:3]))\n",
    "            "
   ]
  },
  {
   "cell_type": "markdown",
   "metadata": {},
   "source": [
    "# Day 2 "
   ]
  },
  {
   "cell_type": "code",
   "execution_count": 5,
   "metadata": {},
   "outputs": [
    {
     "name": "stdout",
     "output_type": "stream",
     "text": [
      "12424\n"
     ]
    }
   ],
   "source": [
    "# A for Rock, B for Paper, and C for Scissors\n",
    "# X for Rock, Y for Paper, and Z for Scissors\n",
    "# (1 for Rock, 2 for Paper, and 3 for Scissors)\n",
    "# (0 if you lost, 3 if the round was a draw, and 6 if you won)\n",
    "# X means you need to lose, Y means you need to end the round in a draw, and Z means you need to win\n",
    "\n",
    "# # define dictionary PUZZLE 1\n",
    "# points = dict([\n",
    "#     ('A X',1+3),\n",
    "#     ('A Y',2+6),\n",
    "#     ('A Z',3+0),\n",
    "#     ('B X',1+0),\n",
    "#     ('B Y',2+3),\n",
    "#     ('B Z',3+6),\n",
    "#     ('C X',1+6),\n",
    "#     ('C Y',2+0),\n",
    "#     ('C Z',3+3)\n",
    "# ])\n",
    "\n",
    "\n",
    "# A for Rock, B for Paper, and C for Scissors\n",
    "# X for Rock, Y for Paper, and Z for Scissors\n",
    "# (1 for Rock, 2 for Paper, and 3 for Scissors)\n",
    "# define dictionary \n",
    "points = dict([\n",
    "    ('A X',0+3),\n",
    "    ('A Y',3+1),\n",
    "    ('A Z',6+2),\n",
    "    ('B X',0+1),\n",
    "    ('B Y',3+2),\n",
    "    ('B Z',6+3),\n",
    "    ('C X',0+2),\n",
    "    ('C Y',3+3),\n",
    "    ('C Z',6+1)\n",
    "])\n",
    "\n",
    "score = 0\n",
    "\n",
    "with open('Day2Puzzle.txt') as inputFile:\n",
    "    lines = inputFile.readlines()\n",
    "    for line in lines: \n",
    "        line = line.strip('\\n')\n",
    "        score += points[line]\n",
    "\n",
    "print(score)\n",
    "\n"
   ]
  },
  {
   "cell_type": "markdown",
   "metadata": {},
   "source": [
    "# Day 3 "
   ]
  },
  {
   "cell_type": "code",
   "execution_count": 38,
   "metadata": {},
   "outputs": [
    {
     "name": "stdout",
     "output_type": "stream",
     "text": [
      "Puzzle 1 7553\n"
     ]
    }
   ],
   "source": [
    "# Lowercase item types a through z have priorities 1 through 26.\n",
    "# Uppercase item types A through Z have priorities 27 through 52.\n",
    "# a\t097\tA\t065\n",
    "def lookupPriority(inputCharacter):\n",
    "    value = ord(inputCharacter)\n",
    "    if value < 96:\n",
    "        # uppercase\n",
    "        return value - 38\n",
    "    else:\n",
    "        # lowercase\n",
    "        return value - 96\n",
    "\n",
    "sumPuzzle1 = 0 \n",
    "with open('Day3Puzzle.txt') as inputFile:\n",
    "    lines = inputFile.readlines() \n",
    "    for line in lines:   \n",
    "\n",
    "        # Puzzle 1 \n",
    "        duplicates = [w for w in set(line[:((len(line))//2)]) if w in line[(len(line))//2:]]\n",
    "        for letter in duplicates:\n",
    "            sumPuzzle1 += lookupPriority(letter)\n",
    "\n",
    "print(\"Puzzle 1\",sumPuzzle1)"
   ]
  },
  {
   "cell_type": "code",
   "execution_count": 1,
   "metadata": {},
   "outputs": [
    {
     "name": "stdout",
     "output_type": "stream",
     "text": [
      "Puzzle 2 2758\n"
     ]
    }
   ],
   "source": [
    "# Lowercase item types a through z have priorities 1 through 26.\n",
    "# Uppercase item types A through Z have priorities 27 through 52.\n",
    "# a\t097\tA\t065\n",
    "def lookupPriority(inputCharacter):\n",
    "    value = ord(inputCharacter)\n",
    "    if value < 96:\n",
    "        # uppercase\n",
    "        return value - 38\n",
    "    else:\n",
    "        # lowercase\n",
    "        return value - 96\n",
    "\n",
    "def chunker(seq, size):\n",
    "    return (seq[pos:pos + size] for pos in range(0, len(seq), size))\n",
    "\n",
    "sumPuzzle2 = 0 \n",
    "with open('Day3Puzzle.txt') as inputFile:\n",
    "    lines = inputFile.readlines() \n",
    "    for elfGroup in chunker(lines,3):   \n",
    "        duplicates = [x for x in [w for w in elfGroup[0] if w in elfGroup[1]] if x in elfGroup[2]]\n",
    "        sumPuzzle2 += lookupPriority(duplicates[0])\n",
    "\n",
    "print(\"Puzzle 2\",sumPuzzle2)"
   ]
  },
  {
   "cell_type": "markdown",
   "metadata": {},
   "source": [
    "# Day 4 "
   ]
  },
  {
   "cell_type": "code",
   "execution_count": 1,
   "metadata": {},
   "outputs": [
    {
     "name": "stdout",
     "output_type": "stream",
     "text": [
      "841\n"
     ]
    }
   ],
   "source": [
    "def findOverlapPuzzleOne(firstElf,secondElf):\n",
    "    if ((firstElf[0] <= secondElf[0]) and (firstElf[-1] >= secondElf[-1] )) or ((secondElf[0] <= firstElf[0]) and (secondElf[-1] >= firstElf[-1] )):\n",
    "        return True\n",
    "\n",
    "def findOverlapPuzzleTwo(firstElf,secondElf):\n",
    "    if set(firstElf) & set(secondElf):\n",
    "        return True\n",
    "\n",
    "def createSets(inputString):\n",
    "    sets = inputString.split(',')\n",
    "    firstList = sets[0].split('-')\n",
    "    secondList = sets[1].split('-')\n",
    "    return [int(firstList[0]),int(firstList[1]),int(secondList[0]),int(secondList[1])]\n",
    "\n",
    "listOne = [2,3,4,5,6]\n",
    "listTwo = [3,4,5]\n",
    "listThree = [3,4,5,10]\n",
    "\n",
    "\n",
    "countOverlap = 0 \n",
    "with open('Day4Puzzle.txt') as inputFile:\n",
    "    lines = inputFile.readlines() \n",
    "    for line in lines: \n",
    "        values = createSets(line.strip('\\n'))\n",
    "        firstSet  =  list(range(values[0],values[1]+1,1))\n",
    "        secondSet =  list(range(values[2],values[3]+1,1))\n",
    "        if findOverlapPuzzleTwo(firstSet,secondSet):\n",
    "            countOverlap += 1\n",
    "\n",
    "print(countOverlap)"
   ]
  },
  {
   "cell_type": "markdown",
   "metadata": {},
   "source": [
    "# Day 5"
   ]
  },
  {
   "cell_type": "code",
   "execution_count": null,
   "metadata": {},
   "outputs": [],
   "source": [
    "# SETUP Original state \n",
    "# [W] [V]     [P]                    \n",
    "# [B] [T]     [C] [B]     [G]        \n",
    "# [G] [S]     [V] [H] [N] [T]        \n",
    "# [Z] [B] [W] [J] [D] [M] [S]        \n",
    "# [R] [C] [N] [N] [F] [W] [C]     [W]\n",
    "# [D] [F] [S] [M] [L] [T] [L] [Z] [Z]\n",
    "# [C] [W] [B] [G] [S] [V] [F] [D] [N]\n",
    "# [V] [G] [C] [Q] [T] [J] [P] [B] [M]\n",
    "#  1   2   3   4   5   6   7   8   9 \n",
    "\n",
    "# my_upper = 'ABCDEFGHIJKLMNOPQRSTUVWXYZ'\n",
    "# for letter in my_upper:\n",
    "#     print(letter, '= \"',letter,'\"')\n",
    "\n",
    "# print('Test instruction line splitting ',extractInstruction(testLine))\n",
    "\n",
    "A = \" A \"\n",
    "B = \" B \"\n",
    "C = \" C \"\n",
    "D = \" D \"\n",
    "E = \" E \"\n",
    "F = \" F \"\n",
    "G = \" G \"\n",
    "H = \" H \"\n",
    "I = \" I \"\n",
    "J = \" J \"\n",
    "K = \" K \"\n",
    "L = \" L \"\n",
    "M = \" M \"\n",
    "N = \" N \"\n",
    "O = \" O \"\n",
    "P = \" P \"\n",
    "Q = \" Q \"\n",
    "R = \" R \"\n",
    "S = \" S \"\n",
    "T = \" T \"\n",
    "U = \" U \"\n",
    "V = \" V \"\n",
    "W = \" W \"\n",
    "X = \" X \"\n",
    "Y = \" Y \"\n",
    "Z = \" Z \"\n",
    "testLine = 'move 2 from 8 to 4'\n",
    "\n",
    "\n",
    "\n",
    "def extractInstruction(inputLine):\n",
    "    # given an instruction line get the indices \n",
    "    # returns [numItems,FromCol,ToCol] -> CORRECTED FOR INDEXING \n",
    "    splitArr = inputLine.split(' ')\n",
    "    return list([int(splitArr[1]),int(splitArr[3])-1,int(splitArr[5])-1])\n",
    "\n",
    "grid = [\n",
    "    [V,C,D,R,Z,G,B,W],\n",
    "    [G,W,F,C,B,S,T,V],\n",
    "    [C,B,S,N,W],\n",
    "    [Q,G,M,N,J,V,C,P],\n",
    "    [T,S,L,F,D,H,B],\n",
    "    [J,V,T,W,M,N],\n",
    "    [P,F,L,C,S,T,G],\n",
    "    [B,D,Z],\n",
    "    [M,N,Z,W]\n",
    "]\n",
    "\n",
    "with open('Day5Puzzle.txt') as inputFile:\n",
    "    lines = inputFile.readlines() \n",
    "    for line in lines:\n",
    "        instruction = extractInstruction(line)\n",
    "        tempList = []\n",
    "        for j in range(0,instruction[0]):\n",
    "            tempList.insert(0,grid[instruction[1]].pop())\n",
    "        for val in tempList:\n",
    "            grid[instruction[2]].append(val)\n",
    "\n",
    "# Puzzle 1 \n",
    "#TBVFVDZPN\n",
    "\n",
    "# Puzzle 2 \n",
    "#VLCWHTDSZ\n",
    "print(grid)        \n",
    "    "
   ]
  },
  {
   "cell_type": "markdown",
   "metadata": {},
   "source": [
    "# Day 6 "
   ]
  },
  {
   "cell_type": "code",
   "execution_count": 1,
   "metadata": {},
   "outputs": [
    {
     "name": "stdout",
     "output_type": "stream",
     "text": [
      "2508\n",
      "rnfghsvpcwjdtl\n",
      "2510\n",
      "fghsvpcwjdtlnr\n"
     ]
    }
   ],
   "source": [
    "def isUniqueChars(st):\n",
    "    char_set = [False] * 128\n",
    "    for i in range(0, len(st)):\n",
    "        val = ord(st[i])\n",
    "        if char_set[val]:\n",
    "            return False\n",
    "        char_set[val] = True\n",
    "    return True\n",
    "\n",
    "puzzleSize = 14\n",
    "with open('Day6Puzzle.txt') as inputFile:\n",
    "    lines = inputFile.readlines()\n",
    "    for line in lines:\n",
    "        for j in range(len(line)):\n",
    "            if line[j+puzzleSize:]:\n",
    "                if isUniqueChars(line[j:j+puzzleSize]):\n",
    "                    print(j+puzzleSize)\n",
    "                    print(line[j:j+puzzleSize])\n"
   ]
  }
 ],
 "metadata": {
  "kernelspec": {
   "display_name": "handtracking",
   "language": "python",
   "name": "handtracking"
  },
  "language_info": {
   "codemirror_mode": {
    "name": "ipython",
    "version": 3
   },
   "file_extension": ".py",
   "mimetype": "text/x-python",
   "name": "python",
   "nbconvert_exporter": "python",
   "pygments_lexer": "ipython3",
   "version": "3.10.5"
  },
  "orig_nbformat": 4,
  "vscode": {
   "interpreter": {
    "hash": "28762a79f5b734ac3f0e14244dfa9b02b4ec92da757e3fcc2dd883042859d1ba"
   }
  }
 },
 "nbformat": 4,
 "nbformat_minor": 2
}
